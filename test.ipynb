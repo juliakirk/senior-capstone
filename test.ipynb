{
 "cells": [
  {
   "cell_type": "code",
   "execution_count": 31,
   "metadata": {},
   "outputs": [
    {
     "name": "stdout",
     "output_type": "stream",
     "text": [
      "0    [Stunning desert landscapes., Native American ...\n",
      "1    [Breathtaking wilderness access., Northern Lig...\n",
      "2    [Thriving arts and cultural events., Top-tier ...\n",
      "3    [Renowned music and arts scene., Affordable li...\n",
      "4    [Booming job market., Diverse neighborhoods an...\n",
      "Name: bullets, dtype: object\n"
     ]
    }
   ],
   "source": [
    "import pandas as pd\n",
    "import ast\n",
    "\n",
    "# Load the dataset\n",
    "data = pd.read_csv('dataset.csv')\n",
    "\n",
    "# Clean the 'bullets' column\n",
    "data['bullets'] = data['bullets'].apply(lambda x: x.replace('\\xa0', ' ') if isinstance(x, str) else x)\n",
    "\n",
    "# Convert the string representation of lists into actual Python lists\n",
    "data['bullets'] = data['bullets'].apply(lambda x: ast.literal_eval(x) if isinstance(x, str) else x)\n",
    "\n",
    "# Check the results\n",
    "print(data['bullets'].head())\n"
   ]
  },
  {
   "cell_type": "code",
   "execution_count": 24,
   "metadata": {},
   "outputs": [
    {
     "ename": "SyntaxError",
     "evalue": "unterminated string literal (detected at line 1) (<unknown>, line 1)",
     "output_type": "error",
     "traceback": [
      "Traceback \u001b[0;36m(most recent call last)\u001b[0m:\n",
      "\u001b[0m  File \u001b[1;32m/opt/anaconda3/lib/python3.12/site-packages/IPython/core/interactiveshell.py:3577\u001b[0m in \u001b[1;35mrun_code\u001b[0m\n    exec(code_obj, self.user_global_ns, self.user_ns)\u001b[0m\n",
      "\u001b[0m  Cell \u001b[1;32mIn[24], line 11\u001b[0m\n    data['bullets'] = data['bullets'].apply(lambda x: ast.literal_eval(x) if isinstance(x, str) else x)\u001b[0m\n",
      "\u001b[0m  File \u001b[1;32m/opt/anaconda3/lib/python3.12/site-packages/pandas/core/series.py:4924\u001b[0m in \u001b[1;35mapply\u001b[0m\n    ).apply()\u001b[0m\n",
      "\u001b[0m  File \u001b[1;32m/opt/anaconda3/lib/python3.12/site-packages/pandas/core/apply.py:1427\u001b[0m in \u001b[1;35mapply\u001b[0m\n    return self.apply_standard()\u001b[0m\n",
      "\u001b[0m  File \u001b[1;32m/opt/anaconda3/lib/python3.12/site-packages/pandas/core/apply.py:1507\u001b[0m in \u001b[1;35mapply_standard\u001b[0m\n    mapped = obj._map_values(\u001b[0m\n",
      "\u001b[0m  File \u001b[1;32m/opt/anaconda3/lib/python3.12/site-packages/pandas/core/base.py:921\u001b[0m in \u001b[1;35m_map_values\u001b[0m\n    return algorithms.map_array(arr, mapper, na_action=na_action, convert=convert)\u001b[0m\n",
      "\u001b[0m  File \u001b[1;32m/opt/anaconda3/lib/python3.12/site-packages/pandas/core/algorithms.py:1743\u001b[0m in \u001b[1;35mmap_array\u001b[0m\n    return lib.map_infer(values, mapper, convert=convert)\u001b[0m\n",
      "\u001b[0m  File \u001b[1;32mlib.pyx:2972\u001b[0m in \u001b[1;35mpandas._libs.lib.map_infer\u001b[0m\n",
      "\u001b[0m  Cell \u001b[1;32mIn[24], line 11\u001b[0m in \u001b[1;35m<lambda>\u001b[0m\n    data['bullets'] = data['bullets'].apply(lambda x: ast.literal_eval(x) if isinstance(x, str) else x)\u001b[0m\n",
      "\u001b[0m  File \u001b[1;32m/opt/anaconda3/lib/python3.12/ast.py:66\u001b[0m in \u001b[1;35mliteral_eval\u001b[0m\n    node_or_string = parse(node_or_string.lstrip(\" \\t\"), mode='eval')\u001b[0m\n",
      "\u001b[0;36m  File \u001b[0;32m/opt/anaconda3/lib/python3.12/ast.py:52\u001b[0;36m in \u001b[0;35mparse\u001b[0;36m\n\u001b[0;31m    return compile(source, filename, mode, flags,\u001b[0;36m\n",
      "\u001b[0;36m  File \u001b[0;32m<unknown>:1\u001b[0;36m\u001b[0m\n\u001b[0;31m    [ \"Rocky Mountain access.\", \"Eco-friendly community.\", \"Vibrant downtown.]\u001b[0m\n\u001b[0m                                                           ^\u001b[0m\n\u001b[0;31mSyntaxError\u001b[0m\u001b[0;31m:\u001b[0m unterminated string literal (detected at line 1)\n"
     ]
    }
   ],
   "source": [
    "import pandas as pd\n",
    "import ast\n",
    "\n",
    "# Load the dataset\n",
    "data = pd.read_csv('dataset.csv')\n",
    "\n",
    "for index, value in data['bullets'].items():\n",
    "    data['bullets'] = data['bullets'].apply(lambda x: x.replace('\\xa0', ' ') if isinstance(x, str) else x)\n",
    "\n",
    "# Convert the string representation of lists into actual Python lists\n",
    "    data['bullets'] = data['bullets'].apply(lambda x: ast.literal_eval(x) if isinstance(x, str) else x)\n",
    "    try:\n",
    "        # Try to evaluate the value\n",
    "        ast.literal_eval(value)\n",
    "    except (ValueError, SyntaxError) as e:\n",
    "        print(f\"Error in row {index}: {value}\")\n"
   ]
  },
  {
   "cell_type": "code",
   "execution_count": 19,
   "metadata": {},
   "outputs": [],
   "source": [
    "def safe_eval(value):\n",
    "    try:\n",
    "        # Try to evaluate the value\n",
    "        return ast.literal_eval(value) if isinstance(value, str) else value\n",
    "    except (ValueError, SyntaxError):\n",
    "        # Return a default value for invalid entries\n",
    "        return []\n",
    "\n",
    "# Apply the safe evaluation function to the 'bullets' column\n",
    "data['bullets'] = data['bullets'].apply(safe_eval)"
   ]
  },
  {
   "cell_type": "code",
   "execution_count": 27,
   "metadata": {},
   "outputs": [
    {
     "data": {
      "text/plain": [
       "0     [\"Stunning desert landscapes.\", \"Native Americ...\n",
       "1     [\"Breathtaking wilderness access.\", \"Northern ...\n",
       "2     [ \"Thriving arts and cultural events.\", \"Top-t...\n",
       "3     [\"Renowned music and arts scene.\", \"Affordable...\n",
       "4     [\"Booming job market.\", \"Diverse neighborhoods...\n",
       "                            ...                        \n",
       "95     [\"Affordable cost of living.\", \"Thriving down...\n",
       "96    [\"Beautiful beaches and mild winters.\", \"Famil...\n",
       "97    [\"Historic landmarks and museums.\", \"Thriving ...\n",
       "98    [\"Scenic beaches and luxury lifestyle.\", \"Vibr...\n",
       "99    [\"Affordable cost of living.\", \"Strong job mar...\n",
       "Name: bullets, Length: 100, dtype: object"
      ]
     },
     "execution_count": 27,
     "metadata": {},
     "output_type": "execute_result"
    }
   ],
   "source": [
    "data['bullets']\n"
   ]
  },
  {
   "cell_type": "code",
   "execution_count": 25,
   "metadata": {},
   "outputs": [
    {
     "name": "stdout",
     "output_type": "stream",
     "text": [
      "Error in row 35: [ \"Rocky Mountain access.\", \"Eco-friendly community.\", \"Vibrant downtown.]\n"
     ]
    }
   ],
   "source": [
    "for index, value in data['bullets'].items():\n",
    "    try:\n",
    "        # Try to evaluate the value\n",
    "        ast.literal_eval(value)\n",
    "    except (ValueError, SyntaxError) as e:\n",
    "        print(f\"Error in row {index}: {value}\")"
   ]
  },
  {
   "cell_type": "code",
   "execution_count": null,
   "metadata": {},
   "outputs": [
    {
     "name": "stdout",
     "output_type": "stream",
     "text": [
      "Empty DataFrame\n",
      "Columns: [City, State, StateCode, City_State, Latitude, Longitude, car_percent, medianRent, white_percent, nonwhite_percent, foreign_born_percent, natural-resources_percent, construction_percent, manufacturing_percent, sales_percent, transportation_percent, information_percent, finance_percent, scientific_percent, education_percent, arts_percent, other_percent, public-administration_percent, republican, democrat, bars_pp, restaurants, parks_pp, activities_pp, nightlife_pp, nightlife, activities, museums_pp, max_avg_high, max_avg_low, mean_diff, international_airport, transit, amtrak, crime_rate, pop_density, blurb, image, bullets]\n",
      "Index: []\n",
      "\n",
      "[0 rows x 44 columns]\n"
     ]
    }
   ],
   "source": []
  },
  {
   "cell_type": "code",
   "execution_count": 29,
   "metadata": {},
   "outputs": [
    {
     "name": "stdout",
     "output_type": "stream",
     "text": [
      "Error in row 35: [ \"Rocky Mountain access.\", \"Eco-friendly community.\", \"Vibrant downtown.]\n"
     ]
    }
   ],
   "source": [
    " for index, value in data['bullets'].items():\n",
    "    try:\n",
    "        # Try to evaluate the value\n",
    "        ast.literal_eval(value)\n",
    "    except (ValueError, SyntaxError) as e:\n",
    "        print(f\"Error in row {index}: {value}\")\n"
   ]
  },
  {
   "cell_type": "code",
   "execution_count": null,
   "metadata": {},
   "outputs": [],
   "source": []
  }
 ],
 "metadata": {
  "kernelspec": {
   "display_name": "base",
   "language": "python",
   "name": "python3"
  },
  "language_info": {
   "codemirror_mode": {
    "name": "ipython",
    "version": 3
   },
   "file_extension": ".py",
   "mimetype": "text/x-python",
   "name": "python",
   "nbconvert_exporter": "python",
   "pygments_lexer": "ipython3",
   "version": "3.12.2"
  }
 },
 "nbformat": 4,
 "nbformat_minor": 2
}
