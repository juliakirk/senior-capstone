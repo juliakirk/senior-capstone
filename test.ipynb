{
 "cells": [
  {
   "cell_type": "code",
   "execution_count": 31,
   "metadata": {},
   "outputs": [
    {
     "name": "stdout",
     "output_type": "stream",
     "text": [
      "0    [Stunning desert landscapes., Native American ...\n",
      "1    [Breathtaking wilderness access., Northern Lig...\n",
      "2    [Thriving arts and cultural events., Top-tier ...\n",
      "3    [Renowned music and arts scene., Affordable li...\n",
      "4    [Booming job market., Diverse neighborhoods an...\n",
      "Name: bullets, dtype: object\n"
     ]
    }
   ],
   "source": [
    "import pandas as pd\n",
    "import ast\n",
    "\n",
    "# Load the dataset\n",
    "data = pd.read_csv('dataset.csv')\n",
    "\n",
    "# Clean the 'bullets' column\n",
    "data['bullets'] = data['bullets'].apply(lambda x: x.replace('\\xa0', ' ') if isinstance(x, str) else x)\n",
    "\n",
    "# Convert the string representation of lists into actual Python lists\n",
    "data['bullets'] = data['bullets'].apply(lambda x: ast.literal_eval(x) if isinstance(x, str) else x)\n",
    "\n",
    "# Check the results\n",
    "print(data['bullets'].head())\n"
   ]
  },
  {
   "cell_type": "code",
   "execution_count": 24,
   "metadata": {},
   "outputs": [
    {
     "ename": "SyntaxError",
     "evalue": "unterminated string literal (detected at line 1) (<unknown>, line 1)",
     "output_type": "error",
     "traceback": [
      "Traceback \u001b[0;36m(most recent call last)\u001b[0m:\n",
      "\u001b[0m  File \u001b[1;32m/opt/anaconda3/lib/python3.12/site-packages/IPython/core/interactiveshell.py:3577\u001b[0m in \u001b[1;35mrun_code\u001b[0m\n    exec(code_obj, self.user_global_ns, self.user_ns)\u001b[0m\n",
      "\u001b[0m  Cell \u001b[1;32mIn[24], line 11\u001b[0m\n    data['bullets'] = data['bullets'].apply(lambda x: ast.literal_eval(x) if isinstance(x, str) else x)\u001b[0m\n",
      "\u001b[0m  File \u001b[1;32m/opt/anaconda3/lib/python3.12/site-packages/pandas/core/series.py:4924\u001b[0m in \u001b[1;35mapply\u001b[0m\n    ).apply()\u001b[0m\n",
      "\u001b[0m  File \u001b[1;32m/opt/anaconda3/lib/python3.12/site-packages/pandas/core/apply.py:1427\u001b[0m in \u001b[1;35mapply\u001b[0m\n    return self.apply_standard()\u001b[0m\n",
      "\u001b[0m  File \u001b[1;32m/opt/anaconda3/lib/python3.12/site-packages/pandas/core/apply.py:1507\u001b[0m in \u001b[1;35mapply_standard\u001b[0m\n    mapped = obj._map_values(\u001b[0m\n",
      "\u001b[0m  File \u001b[1;32m/opt/anaconda3/lib/python3.12/site-packages/pandas/core/base.py:921\u001b[0m in \u001b[1;35m_map_values\u001b[0m\n    return algorithms.map_array(arr, mapper, na_action=na_action, convert=convert)\u001b[0m\n",
      "\u001b[0m  File \u001b[1;32m/opt/anaconda3/lib/python3.12/site-packages/pandas/core/algorithms.py:1743\u001b[0m in \u001b[1;35mmap_array\u001b[0m\n    return lib.map_infer(values, mapper, convert=convert)\u001b[0m\n",
      "\u001b[0m  File \u001b[1;32mlib.pyx:2972\u001b[0m in \u001b[1;35mpandas._libs.lib.map_infer\u001b[0m\n",
      "\u001b[0m  Cell \u001b[1;32mIn[24], line 11\u001b[0m in \u001b[1;35m<lambda>\u001b[0m\n    data['bullets'] = data['bullets'].apply(lambda x: ast.literal_eval(x) if isinstance(x, str) else x)\u001b[0m\n",
      "\u001b[0m  File \u001b[1;32m/opt/anaconda3/lib/python3.12/ast.py:66\u001b[0m in \u001b[1;35mliteral_eval\u001b[0m\n    node_or_string = parse(node_or_string.lstrip(\" \\t\"), mode='eval')\u001b[0m\n",
      "\u001b[0;36m  File \u001b[0;32m/opt/anaconda3/lib/python3.12/ast.py:52\u001b[0;36m in \u001b[0;35mparse\u001b[0;36m\n\u001b[0;31m    return compile(source, filename, mode, flags,\u001b[0;36m\n",
      "\u001b[0;36m  File \u001b[0;32m<unknown>:1\u001b[0;36m\u001b[0m\n\u001b[0;31m    [ \"Rocky Mountain access.\", \"Eco-friendly community.\", \"Vibrant downtown.]\u001b[0m\n\u001b[0m                                                           ^\u001b[0m\n\u001b[0;31mSyntaxError\u001b[0m\u001b[0;31m:\u001b[0m unterminated string literal (detected at line 1)\n"
     ]
    }
   ],
   "source": [
    "import pandas as pd\n",
    "import ast\n",
    "\n",
    "# Load the dataset\n",
    "data = pd.read_csv('dataset.csv')\n",
    "\n",
    "for index, value in data['bullets'].items():\n",
    "    data['bullets'] = data['bullets'].apply(lambda x: x.replace('\\xa0', ' ') if isinstance(x, str) else x)\n",
    "\n",
    "# Convert the string representation of lists into actual Python lists\n",
    "    data['bullets'] = data['bullets'].apply(lambda x: ast.literal_eval(x) if isinstance(x, str) else x)\n",
    "    try:\n",
    "        # Try to evaluate the value\n",
    "        ast.literal_eval(value)\n",
    "    except (ValueError, SyntaxError) as e:\n",
    "        print(f\"Error in row {index}: {value}\")\n"
   ]
  },
  {
   "cell_type": "code",
   "execution_count": 19,
   "metadata": {},
   "outputs": [],
   "source": [
    "def safe_eval(value):\n",
    "    try:\n",
    "        # Try to evaluate the value\n",
    "        return ast.literal_eval(value) if isinstance(value, str) else value\n",
    "    except (ValueError, SyntaxError):\n",
    "        # Return a default value for invalid entries\n",
    "        return []\n",
    "\n",
    "# Apply the safe evaluation function to the 'bullets' column\n",
    "data['bullets'] = data['bullets'].apply(safe_eval)"
   ]
  },
  {
   "cell_type": "code",
   "execution_count": 27,
   "metadata": {},
   "outputs": [
    {
     "data": {
      "text/plain": [
       "0     [\"Stunning desert landscapes.\", \"Native Americ...\n",
       "1     [\"Breathtaking wilderness access.\", \"Northern ...\n",
       "2     [ \"Thriving arts and cultural events.\", \"Top-t...\n",
       "3     [\"Renowned music and arts scene.\", \"Affordable...\n",
       "4     [\"Booming job market.\", \"Diverse neighborhoods...\n",
       "                            ...                        \n",
       "95     [\"Affordable cost of living.\", \"Thriving down...\n",
       "96    [\"Beautiful beaches and mild winters.\", \"Famil...\n",
       "97    [\"Historic landmarks and museums.\", \"Thriving ...\n",
       "98    [\"Scenic beaches and luxury lifestyle.\", \"Vibr...\n",
       "99    [\"Affordable cost of living.\", \"Strong job mar...\n",
       "Name: bullets, Length: 100, dtype: object"
      ]
     },
     "execution_count": 27,
     "metadata": {},
     "output_type": "execute_result"
    }
   ],
   "source": [
    "data['bullets']\n"
   ]
  },
  {
   "cell_type": "code",
   "execution_count": 25,
   "metadata": {},
   "outputs": [
    {
     "name": "stdout",
     "output_type": "stream",
     "text": [
      "Error in row 35: [ \"Rocky Mountain access.\", \"Eco-friendly community.\", \"Vibrant downtown.]\n"
     ]
    }
   ],
   "source": [
    "for index, value in data['bullets'].items():\n",
    "    try:\n",
    "        # Try to evaluate the value\n",
    "        ast.literal_eval(value)\n",
    "    except (ValueError, SyntaxError) as e:\n",
    "        print(f\"Error in row {index}: {value}\")"
   ]
  },
  {
   "cell_type": "code",
   "execution_count": null,
   "metadata": {},
   "outputs": [
    {
     "name": "stdout",
     "output_type": "stream",
     "text": [
      "Empty DataFrame\n",
      "Columns: [City, State, StateCode, City_State, Latitude, Longitude, car_percent, medianRent, white_percent, nonwhite_percent, foreign_born_percent, natural-resources_percent, construction_percent, manufacturing_percent, sales_percent, transportation_percent, information_percent, finance_percent, scientific_percent, education_percent, arts_percent, other_percent, public-administration_percent, republican, democrat, bars_pp, restaurants, parks_pp, activities_pp, nightlife_pp, nightlife, activities, museums_pp, max_avg_high, max_avg_low, mean_diff, international_airport, transit, amtrak, crime_rate, pop_density, blurb, image, bullets]\n",
      "Index: []\n",
      "\n",
      "[0 rows x 44 columns]\n"
     ]
    }
   ],
   "source": []
  },
  {
   "cell_type": "code",
   "execution_count": 29,
   "metadata": {},
   "outputs": [
    {
     "name": "stdout",
     "output_type": "stream",
     "text": [
      "Error in row 35: [ \"Rocky Mountain access.\", \"Eco-friendly community.\", \"Vibrant downtown.]\n"
     ]
    }
   ],
   "source": [
    " for index, value in data['bullets'].items():\n",
    "    try:\n",
    "        # Try to evaluate the value\n",
    "        ast.literal_eval(value)\n",
    "    except (ValueError, SyntaxError) as e:\n",
    "        print(f\"Error in row {index}: {value}\")\n"
   ]
  },
  {
   "cell_type": "code",
   "execution_count": 11,
   "metadata": {},
   "outputs": [
    {
     "name": "stdout",
     "output_type": "stream",
     "text": [
      "Points passed to the template: [{'City_State': 'New Orleans, Louisiana', 'score': 19.640815780951765, 'Latitude': 29.9759983, 'Longitude': -90.0782127, 'blurb': 'New Orleans is a city like no other, known for its vibrant culture, jazz music, and unique blend of French, African, and American influences. The city’s festivals, particularly Mardi Gras, draw visitors from around the world, and its food scene is renowned for Creole and Cajun flavors. New Orleans has a warm, subtropical climate and offers a laid-back lifestyle that appeals to creatives, young professionals, and retirees alike. The city’s historic neighborhoods, such as the French Quarter and Garden District, add to its charm and character. However, New Orleans faces challenges with crime rates in certain areas and seasonal hurricanes, which can impact life in the city. Public transit options are limited, so a car is often necessary. Despite these issues, New Orleans’s unique cultural identity, affordable housing, and vibrant atmosphere make it a beloved choice for those seeking a lively, community-focused city with a rich history.', 'image': 'https://content.r9cdn.net/rimg/dimg/6e/52/9f9ef153-city-22085-15c355238ae.jpg?crop=true&width=1366&height=768&xhint=1758&yhint=1555', 'bullets': ['Vibrant jazz and food culture.', 'Historic neighborhoods.', 'Unique festivals like Mardi Gras.']}, {'City_State': 'Savannah, Georgia', 'score': 18.91091816714771, 'Latitude': 32.0790074, 'Longitude': -81.0921335, 'blurb': 'Savannah is a charming Southern city known for its historic architecture, beautiful squares, and coastal location. The city’s warm climate, unique blend of culture, and slower pace make it appealing for retirees, families, and those who appreciate Southern hospitality. Savannah’s vibrant arts scene, historic homes, and cobblestone streets provide a scenic, relaxed lifestyle, and its annual festivals, such as the Savannah Music Festival, add to the city’s lively atmosphere. However, Savannah’s job market is smaller, with a focus on tourism, healthcare, and education, which may limit opportunities for some professionals. Summers are hot and humid, and public transit options are limited, making a car necessary for most residents. For individuals seeking an affordable, charming lifestyle in a historic, close-knit community with coastal access, Savannah is an excellent choice with a unique Southern appeal.', 'image': 'https://www.southernliving.com/thmb/zJWId3UG9oGiA-1RPUk9YnGuu5A=/1500x0/filters:no_upscale():max_bytes(150000):strip_icc()/GettyImages-1402648021-386c87d2fc9a4a969fe98040192a34af.jpg', 'bullets': ['Historic architecture and squares.', 'Vibrant arts and festivals.', 'Warm, coastal charm.']}, {'City_State': 'Reno, Nevada', 'score': 18.86459180836064, 'Latitude': 39.5261206, 'Longitude': -119.8126581, 'blurb': 'Reno is a vibrant city known for its entertainment options, scenic beauty, and growing job market. Often called “The Biggest Little City in the World,” Reno offers a smaller, more affordable alternative to nearby Las Vegas, with its own casinos, nightlife, and art scene. The city’s proximity to Lake Tahoe and the Sierra Nevada mountains provides residents with easy access to outdoor activities like skiing, hiking, and boating, making it ideal for nature enthusiasts. However, Reno’s hot, dry summers and car-dependent layout may not appeal to everyone, and public transportation is limited. The city’s economy has diversified beyond gaming, but job opportunities remain more focused in hospitality, tech, and healthcare. Reno is an excellent choice for those who enjoy a mix of entertainment and nature with a more relaxed, small-city feel.', 'image': 'https://upload.wikimedia.org/wikipedia/commons/e/e1/Reno%2C_Nevada_%2816931715632%29.jpg', 'bullets': ['Scenic beauty and outdoor recreation.', 'Entertainment and nightlife.', 'Affordable living.']}, {'City_State': 'Portland, Maine', 'score': 18.846701249687104, 'Latitude': 43.6573605, 'Longitude': -70.2586618, 'blurb': 'Portland, Maine, is a charming coastal city known for its historic architecture, scenic views, and vibrant arts and food scene. The city’s waterfront, with its fresh seafood, unique boutiques, and art galleries, is a major attraction for residents and visitors alike. Portland’s progressive culture and eco-conscious community are perfect for those who prioritize sustainability and outdoor activities, with nearby forests, beaches, and mountains providing endless opportunities for adventure. Portland’s winters are long and snowy, which can be challenging for those unused to cold climates, and the cost of living is relatively high, particularly in housing. While it may feel small for some, Portland’s blend of community spirit, coastal beauty, and cultural richness make it a top choice for individuals seeking a scenic, close-knit lifestyle in a charming New England setting.', 'image': 'https://www.ncl.com/sites/default/files/portland-cathedral-maine.jpg', 'bullets': ['Scenic coastal beauty.', 'Vibrant arts and food culture.', 'Eco-conscious and community-focused.']}, {'City_State': 'Las Vegas, Nevada', 'score': 18.68369382806758, 'Latitude': 36.1672559, 'Longitude': -115.148516, 'blurb': 'Las Vegas is known for its iconic nightlife, entertainment, and year-round warm climate, making it a vibrant destination for those seeking excitement. The city’s Strip offers endless options for dining, shows, and gaming, and its growing arts district has brought a new dimension to the city’s culture. Beyond tourism, Las Vegas has a growing job market in sectors like healthcare, finance, and tech, appealing to young professionals and families looking for career opportunities in a sunny climate. However, Las Vegas’s hot summers and reliance on tourism can be drawbacks, especially for those not in hospitality-related jobs. The city is also car-dependent, with limited public transit options. Despite these challenges, Las Vegas’s affordability, entertainment options, and economic growth make it an attractive choice for those looking for a unique, lively urban experience in the desert.', 'image': 'https://assets.simpleviewcms.com/simpleview/image/upload/c_limit,h_1200,q_75,w_1200/v1/clients/lasvegas/RR_LVCVA_Strip_Caesars_Bellagio_Paris_SM_1__704abf3c-7d0a-4d56-ae67-3167dc7784b4.jpg', 'bullets': ['Iconic nightlife and entertainment.', 'Warm year-round climate.', 'Growing job market.']}]\n"
     ]
    }
   ],
   "source": [
    "#!/usr/bin/env node\n",
    "\n",
    "from flask import Flask, request, render_template, jsonify\n",
    "import pandas as pd\n",
    "from sklearn.preprocessing import MinMaxScaler\n",
    "import ast\n",
    "\n",
    "user_preferences = extract_user_preferences(test)\n",
    "\n",
    "# Generate recommendations\n",
    "recommendations = cityReccomender(user_preferences)\n",
    "\n",
    "# Convert recommendations to JSON-serializable format\n",
    "if not recommendations.empty:\n",
    "    points = recommendations.head(5).to_dict(orient='records')\n",
    "else:\n",
    "    # Provide fallback if no recommendations exist\n",
    "    points = [{\"City_State\": \"No Matches Found\", \"Latitude\": 0, \"Longitude\": 0, \"blurb\": \"No data available\"}]\n",
    "\n",
    "# Debugging step: Print points to check the structure\n",
    "print(\"Points passed to the template:\", points)\n",
    "\n"
   ]
  },
  {
   "cell_type": "code",
   "execution_count": 1,
   "metadata": {},
   "outputs": [],
   "source": [
    "\n",
    "def cityReccomender(user_preferences):\n",
    "    import pandas as pd\n",
    "    from sklearn.preprocessing import MinMaxScaler\n",
    "\n",
    "    data = pd.read_csv('dataset.csv')\n",
    "\n",
    "    scaler = MinMaxScaler()\n",
    "    columns_to_normalize = [ 'crime_rate', 'parks_pp', 'pop_density', \n",
    "        'nonwhite_percent', 'foreign_born_percent', 'restaurants', \n",
    "        'nightlife', 'transit', 'car_percent', 'activities', \n",
    "        'republican', 'democrat', 'max_avg_high', 'mean_diff',\n",
    "        'natural-resources_percent', 'construction_percent', 'manufacturing_percent', \n",
    "        'sales_percent', 'transportation_percent', 'information_percent', \n",
    "        'finance_percent', 'scientific_percent', 'education_percent', \n",
    "        'arts_percent', 'other_percent', 'public-administration_percent'\n",
    "    ]\n",
    "    data[columns_to_normalize] = scaler.fit_transform(data[columns_to_normalize])\n",
    "    data['bullets'] = data['bullets'].apply(lambda x: x.replace('\\xa0', ' ') if isinstance(x, str) else x)\n",
    "\n",
    "# Convert the string representation of lists into actual Python lists\n",
    "    data['bullets'] = data['bullets'].apply(lambda x: ast.literal_eval(x) if isinstance(x, str) else x)\n",
    "\n",
    "    data['score'] = 0\n",
    "\n",
    "    data['job_match'] = data[f\"{user_preferences['job-industry']}_percent\"]\n",
    "\n",
    "    data = data[data['medianRent'] <= user_preferences['COL'] + 400]\n",
    "\n",
    "    weather = 0\n",
    "    if user_preferences['climate'] in [1, 2]:\n",
    "        weather = (1 - data['max_avg_low']) * (6 - user_preferences['climate'])\n",
    "    elif user_preferences['climate'] in [4, 5]:\n",
    "        weather = data['max_avg_high'] * user_preferences['climate']\n",
    "\n",
    "    density = 0\n",
    "    if user_preferences['urban'] in [1, 2]:\n",
    "        density = (1 - data['pop_density']) * (6 - user_preferences['urban'])  # Prefer lower density\n",
    "    elif user_preferences['urban'] in [4, 5]:\n",
    "        density = data['pop_density'] * user_preferences['urban']  # Prefer higher density\n",
    "\n",
    "    politics = 0\n",
    "    if user_preferences['politics'] in [1, 2]:\n",
    "        politics = data['democrat'] * (6 - user_preferences['politics'])  # Prefer lower density\n",
    "    elif user_preferences['politics'] in [4, 5]:\n",
    "        politics = data['republican'] * user_preferences['politics']  # Prefer higher density\n",
    "\n",
    "    data['score'] = (\n",
    "        (1 - data['crime_rate']) * (6 - user_preferences['crime']) +  # Lower crime rate preferred\n",
    "        data['parks_pp'] * user_preferences['nature'] +        # Nature preference\n",
    "        density +                                              # Urban/rural preference\n",
    "        (data['nonwhite_percent'] + data['foreign_born_percent']) * user_preferences['diverse'] +\n",
    "        data['restaurants'] * user_preferences['dining'] +\n",
    "        data['nightlife'] * user_preferences['nightlife'] +\n",
    "        data['transit'] * user_preferences['airports'] +\n",
    "        data['car_percent'] * user_preferences['transportation'] +\n",
    "        data['activities'] * user_preferences['activities'] +\n",
    "        politics * user_preferences['alignment'] +\n",
    "        weather +\n",
    "        data['mean_diff'] * user_preferences['seasonal'] +\n",
    "        data['job_match'] * 5  # Job match is always maximally weighted\n",
    "    )\n",
    "\n",
    "    recommendations = data.sort_values(by='score', ascending=False).head(5)\n",
    "    # Output recommendations\n",
    "    return recommendations[['City_State', 'score', 'Latitude', 'Longitude', 'blurb', 'image', 'bullets']]"
   ]
  },
  {
   "cell_type": "code",
   "execution_count": 3,
   "metadata": {},
   "outputs": [],
   "source": [
    "def extract_user_preferences(source):\n",
    "    \"\"\"Extract user preferences from request form or query parameters.\"\"\"\n",
    "    return {\n",
    "        'COL': int(source.get('COL', 2000)),\n",
    "        'crime': int(source.get('crime', 3)),\n",
    "        'nature': int(source.get('nature', 3)),\n",
    "        'urban': int(source.get('urban', 3)),\n",
    "        'diverse': int(source.get('diverse', 3)),\n",
    "        'dining': int(source.get('dining', 3)),\n",
    "        'nightlife': int(source.get('nightlife', 3)),\n",
    "        'airports': int(source.get('airports', 3)),\n",
    "        'transportation': int(source.get('transportation', 3)),\n",
    "        'activities': int(source.get('activities', 3)),\n",
    "        'politics': int(source.get('politics', 3)),\n",
    "        'alignment': int(source.get('alignment', 3)),\n",
    "        'climate': int(source.get('climate', 3)),\n",
    "        'seasonal': int(source.get('seasonal', 3)),\n",
    "        'job-industry': source.get('job-industry', 'other')\n",
    "    }\n"
   ]
  },
  {
   "cell_type": "code",
   "execution_count": 9,
   "metadata": {},
   "outputs": [],
   "source": [
    "test = {\n",
    "    'COL': 2000,\n",
    "    'crime': 3,\n",
    "    'nature': 3,\n",
    "    'urban': 3,\n",
    "    'diverse': 3,\n",
    "    'dining': 3,\n",
    "    'nightlife': 3,\n",
    "    'airports': 3,\n",
    "    'transportation': 3,\n",
    "    'activities': 3,\n",
    "    'politics': 3,\n",
    "    'alignment': 3,\n",
    "    'climate': 3,\n",
    "    'seasonal': 3,\n",
    "    'job-industry': \"other\"\n",
    "}"
   ]
  },
  {
   "cell_type": "code",
   "execution_count": null,
   "metadata": {},
   "outputs": [],
   "source": []
  }
 ],
 "metadata": {
  "kernelspec": {
   "display_name": "base",
   "language": "python",
   "name": "python3"
  },
  "language_info": {
   "codemirror_mode": {
    "name": "ipython",
    "version": 3
   },
   "file_extension": ".py",
   "mimetype": "text/x-python",
   "name": "python",
   "nbconvert_exporter": "python",
   "pygments_lexer": "ipython3",
   "version": "3.12.2"
  }
 },
 "nbformat": 4,
 "nbformat_minor": 2
}
