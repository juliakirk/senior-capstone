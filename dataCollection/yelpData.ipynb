{
 "cells": [
  {
   "cell_type": "code",
   "execution_count": null,
   "metadata": {},
   "outputs": [],
   "source": [
    "key = 'dKr-bf2i2fJHeD3Tknb_NzP4EpZRLYE2LL9CegVNTVf2wOSJ67SHO39DywWb8Go70YQ4eJegFJEPvXZC-izJH_H15SXcxkiknfZSqfWngDx9y_TWmGyWxOxxA_0jZ3Yx'"
   ]
  }
 ],
 "metadata": {
  "language_info": {
   "name": "python"
  }
 },
 "nbformat": 4,
 "nbformat_minor": 2
}
