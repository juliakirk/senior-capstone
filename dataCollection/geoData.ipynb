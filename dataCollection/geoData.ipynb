{
 "cells": [
  {
   "cell_type": "code",
   "execution_count": 6,
   "metadata": {
    "metadata": {}
   },
   "outputs": [
    {
     "ename": "ModuleNotFoundError",
     "evalue": "No module named 'geopy'",
     "output_type": "error",
     "traceback": [
      "\u001b[0;31m---------------------------------------------------------------------------\u001b[0m",
      "\u001b[0;31mModuleNotFoundError\u001b[0m                       Traceback (most recent call last)",
      "Cell \u001b[0;32mIn[6], line 1\u001b[0m\n\u001b[0;32m----> 1\u001b[0m \u001b[38;5;28;01mfrom\u001b[39;00m \u001b[38;5;21;01mgeopy\u001b[39;00m\u001b[38;5;21;01m.\u001b[39;00m\u001b[38;5;21;01mgeocoders\u001b[39;00m \u001b[38;5;28;01mimport\u001b[39;00m Nominatim\n\u001b[1;32m      2\u001b[0m \u001b[38;5;28;01mimport\u001b[39;00m \u001b[38;5;21;01mpandas\u001b[39;00m \u001b[38;5;28;01mas\u001b[39;00m \u001b[38;5;21;01mpd\u001b[39;00m\n\u001b[1;32m      4\u001b[0m \u001b[38;5;66;03m# Initialize geolocator\u001b[39;00m\n",
      "\u001b[0;31mModuleNotFoundError\u001b[0m: No module named 'geopy'"
     ]
    }
   ],
   "source": [
    "from geopy.geocoders import Nominatim\n",
    "import pandas as pd\n",
    "\n",
    "# Initialize geolocator\n",
    "geolocator = Nominatim(user_agent=\"geoapiExercises\")\n",
    "\n",
    "# Example function to get lat/long from urban area code (city name)\n",
    "def get_lat_long(city_name):\n",
    "    location = geolocator.geocode(city_name)\n",
    "    if location:\n",
    "        return (location.latitude, location.longitude)\n",
    "    return None\n",
    "\n",
    "# Example of applying the function to a list of cities in a pandas DataFrame\n",
    "df = pd.DataFrame({'City': ['Denver', 'San Francisco', 'New York']})\n",
    "df['Coordinates'] = df['City'].apply(get_lat_long)\n",
    "print(df)\n"
   ]
  },
  {
   "cell_type": "code",
   "execution_count": null,
   "metadata": {},
   "outputs": [],
   "source": [
    "weather = \"history.openweathermap.org/data/2.5/aggregated/month?lat={lat}&lon={lon}&month={number of the month}\""
   ]
  },
  {
   "cell_type": "code",
   "execution_count": 2,
   "metadata": {},
   "outputs": [
    {
     "name": "stdout",
     "output_type": "stream",
     "text": [
      "       City Country   Latitude   Longitude\n",
      "0  New York     USA  40.712728  -74.006015\n",
      "1     Paris  France  48.853495    2.348391\n",
      "2     Tokyo   Japan  35.676860  139.763895\n"
     ]
    }
   ],
   "source": [
    "from geopy.geocoders import Nominatim\n",
    "import pandas as pd\n",
    "\n",
    "# Sample data\n",
    "data = {'City': ['New York', 'Paris', 'Tokyo'], 'Country': ['USA', 'France', 'Japan']}\n",
    "df = pd.DataFrame(data)\n",
    "\n",
    "# Initialize geocoder\n",
    "geolocator = Nominatim(user_agent=\"julia kirk juki1129@colorado.edu\")\n",
    "\n",
    "# Function to get latitude and longitude\n",
    "def get_lat_long(city, country):\n",
    "    location = geolocator.geocode(f\"{city}, {country}\")\n",
    "    if location:\n",
    "        return location.latitude, location.longitude\n",
    "    else:\n",
    "        return None, None\n",
    "\n",
    "# Apply the function to the dataframe\n",
    "df['Latitude'], df['Longitude'] = zip(*df.apply(lambda x: get_lat_long(x['City'], x['Country']), axis=1))\n",
    "\n",
    "# Print the dataframe with lat/long\n",
    "print(df)\n"
   ]
  },
  {
   "cell_type": "code",
   "execution_count": 4,
   "metadata": {},
   "outputs": [
    {
     "name": "stdout",
     "output_type": "stream",
     "text": [
      "Geocoding complete. Results saved to ../datasets/capstoneData.csv\n"
     ]
    }
   ],
   "source": [
    "import pandas as pd\n",
    "from geopy.geocoders import Nominatim\n",
    "import time\n",
    "\n",
    "# Initialize the geolocator\n",
    "geolocator = Nominatim(user_agent=\"julia kirk juki1129@colorado.edu\")\n",
    "\n",
    "# Function to get latitude and longitude for a city and state\n",
    "def get_lat_long(city, state):\n",
    "    try:\n",
    "        location = geolocator.geocode(f\"{city}, {state}\")\n",
    "        if location:\n",
    "            return location.latitude, location.longitude\n",
    "        else:\n",
    "            return None, None\n",
    "    except Exception as e:\n",
    "        print(f\"Error with {city}, {state}: {e}\")\n",
    "        return None, None\n",
    "\n",
    "# Read the CSV file into a pandas dataframe\n",
    "input_csv = '../datasets/capstoneData.csv'  # Replace with the actual file path\n",
    "df = pd.read_csv(input_csv)\n",
    "\n",
    "# Create new columns for Latitude and Longitude\n",
    "df['Latitude'], df['Longitude'] = zip(*df.apply(lambda x: get_lat_long(x['City'], x['State']), axis=1))\n",
    "\n",
    "# Save the dataframe with Latitude and Longitude to a new CSV file\n",
    "output_csv = '../datasets/capstoneData.csv'  # Replace with the desired output file path\n",
    "df.to_csv(output_csv, index=False)\n",
    "\n",
    "print(f\"Geocoding complete. Results saved to {output_csv}\")\n"
   ]
  },
  {
   "cell_type": "code",
   "execution_count": null,
   "metadata": {},
   "outputs": [],
   "source": []
  }
 ],
 "metadata": {
  "kernelspec": {
   "display_name": "Python 3",
   "language": "python",
   "name": "python3"
  },
  "language_info": {
   "codemirror_mode": {
    "name": "ipython",
    "version": 3
   },
   "file_extension": ".py",
   "mimetype": "text/x-python",
   "name": "python",
   "nbconvert_exporter": "python",
   "pygments_lexer": "ipython3",
   "version": "3.13.0"
  }
 },
 "nbformat": 4,
 "nbformat_minor": 2
}
